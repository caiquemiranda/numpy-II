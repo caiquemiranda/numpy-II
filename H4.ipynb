{
 "cells": [
  {
   "cell_type": "code",
   "execution_count": 1,
   "metadata": {},
   "outputs": [],
   "source": [
    "# Reshape From 1D to 2D\n",
    "\n",
    "# 2dArray = 1dArray.reshape(rows, columns)"
   ]
  },
  {
   "cell_type": "code",
   "execution_count": 2,
   "metadata": {},
   "outputs": [
    {
     "name": "stdout",
     "output_type": "stream",
     "text": [
      "[[ 0  1  2  3]\n",
      " [ 4  5  6  7]\n",
      " [ 8  9 10 11]]\n"
     ]
    }
   ],
   "source": [
    "# Example 4.1\n",
    "\n",
    "import numpy as np\n",
    "\n",
    "myArr = np.array([0, 1, 2, 3, 4, 5, 6, 7, 8, 9, 10, 11])\n",
    "newArr = myArr.reshape(3, 4)\n",
    "\n",
    "print(newArr)"
   ]
  },
  {
   "cell_type": "code",
   "execution_count": 3,
   "metadata": {},
   "outputs": [],
   "source": [
    "# Reshape From 2D to 3D\n",
    "\n",
    "# 3dArray = 1dArray.reshape( layers, rows, columns )"
   ]
  },
  {
   "cell_type": "code",
   "execution_count": 4,
   "metadata": {},
   "outputs": [
    {
     "name": "stdout",
     "output_type": "stream",
     "text": [
      "[[[ 0  1  2]\n",
      "  [ 3  4  5]]\n",
      "\n",
      " [[ 6  7  8]\n",
      "  [ 9 10 11]]]\n"
     ]
    }
   ],
   "source": [
    "# Example 4.2\n",
    "\n",
    "import numpy as np\n",
    "\n",
    "myArr = np.array([0, 1, 2, 3, 4, 5, 6, 7, 8, 9, 10, 11])\n",
    "newArr = myArr.reshape(2, 2, 3)\n",
    "\n",
    "print(newArr)"
   ]
  },
  {
   "cell_type": "code",
   "execution_count": 5,
   "metadata": {},
   "outputs": [],
   "source": [
    "# Reshape Requirement"
   ]
  },
  {
   "cell_type": "code",
   "execution_count": 6,
   "metadata": {},
   "outputs": [],
   "source": [
    "# Example 4.3\n",
    "\n",
    "# arr.reshape( 2, 6 ) # 2*6=12\n",
    "# arr.reshape( 3, 4 ) # 3*4=12\n",
    "# arr.reshape( 4, 3 ) # 4*3=12\n",
    "\n",
    "# arr.reshape( 1, 3, 4 ) # 1*3*4=12\n",
    "# arr.reshape( 2, 3, 2 ) # 2*3*2=12\n",
    "# arr.reshape( 3, 2, 2 ) # 3*2*2=12"
   ]
  },
  {
   "cell_type": "code",
   "execution_count": 7,
   "metadata": {},
   "outputs": [],
   "source": [
    "# Unknown Dimension\n",
    "\n",
    "# arr.reshape( -1, rows, columns )\n",
    "# arr.reshape( layer, -1, columns )\n",
    "# arr.reshape( layer, rows, -1 )"
   ]
  },
  {
   "cell_type": "code",
   "execution_count": 8,
   "metadata": {},
   "outputs": [
    {
     "name": "stdout",
     "output_type": "stream",
     "text": [
      "[[[ 1  2  3]\n",
      "  [ 4  5  6]]\n",
      "\n",
      " [[ 7  8  9]\n",
      "  [10 11 12]]]\n"
     ]
    }
   ],
   "source": [
    "# Example 4.4\n",
    "\n",
    "import numpy as np\n",
    "\n",
    "myArr = np.array([1, 2, 3, 4, 5, 6, 7, 8, 9, 10, 11, 12])\n",
    "newArr = myArr.reshape( -1, 2, 3 )\n",
    "\n",
    "print(newArr)"
   ]
  },
  {
   "cell_type": "code",
   "execution_count": 9,
   "metadata": {},
   "outputs": [],
   "source": [
    "# Flattening Array\n",
    "\n",
    "# myArr.reshape(-1)"
   ]
  },
  {
   "cell_type": "code",
   "execution_count": 10,
   "metadata": {},
   "outputs": [
    {
     "name": "stdout",
     "output_type": "stream",
     "text": [
      "[1 2 3 4 5 6 7 8 9]\n"
     ]
    }
   ],
   "source": [
    "# Example 4.5\n",
    "\n",
    "import numpy as np\n",
    "\n",
    "myArr = np.array([[1,2,3], [4,5,6], [7,8,9]])\n",
    "newArr = myArr.reshape(-1)\n",
    "\n",
    "print(newArr)"
   ]
  },
  {
   "cell_type": "code",
   "execution_count": 11,
   "metadata": {},
   "outputs": [],
   "source": [
    "# Iterating 1-d Array\n",
    "\n",
    "# for num in myArray"
   ]
  },
  {
   "cell_type": "code",
   "execution_count": 12,
   "metadata": {},
   "outputs": [
    {
     "name": "stdout",
     "output_type": "stream",
     "text": [
      "10\n",
      "11\n",
      "12\n"
     ]
    }
   ],
   "source": [
    "# Example 4.6\n",
    "\n",
    "import numpy as np\n",
    "\n",
    "myArr = np.array([10, 11, 12])\n",
    "\n",
    "for num in myArr:\n",
    "    print(num)"
   ]
  },
  {
   "cell_type": "code",
   "execution_count": 13,
   "metadata": {},
   "outputs": [],
   "source": [
    "# Iterating 2-d Array\n",
    "\n",
    "# for num in myArray"
   ]
  },
  {
   "cell_type": "code",
   "execution_count": 14,
   "metadata": {},
   "outputs": [
    {
     "name": "stdout",
     "output_type": "stream",
     "text": [
      "[10 11 12]\n",
      "[13 14 15]\n"
     ]
    }
   ],
   "source": [
    "# Example 4.7\n",
    "\n",
    "import numpy as np\n",
    "\n",
    "myArr = np.array([[10, 11, 12], [13, 14, 15]])\n",
    "\n",
    "for num in myArr:\n",
    "    print(num)"
   ]
  },
  {
   "cell_type": "code",
   "execution_count": 15,
   "metadata": {},
   "outputs": [],
   "source": [
    "# Iterating 3-d Array\n",
    "\n",
    "# for num in myArray"
   ]
  },
  {
   "cell_type": "code",
   "execution_count": 16,
   "metadata": {},
   "outputs": [
    {
     "name": "stdout",
     "output_type": "stream",
     "text": [
      "[[10 11 12]\n",
      " [13 14 15]]\n",
      "[[16 17 18]\n",
      " [19 20 21]]\n"
     ]
    }
   ],
   "source": [
    "# Example 4.8\n",
    "\n",
    "import numpy as np\n",
    "\n",
    "myArr=np.array([[[10,11,12],[13,14,15]],[[16,17,18],[19,20,21]]])\n",
    "\n",
    "for num in myArr:\n",
    "    print(num)"
   ]
  },
  {
   "cell_type": "code",
   "execution_count": 17,
   "metadata": {},
   "outputs": [],
   "source": [
    "# nditer()\n",
    "\n",
    "# nditer(myArray)"
   ]
  },
  {
   "cell_type": "code",
   "execution_count": 18,
   "metadata": {},
   "outputs": [
    {
     "name": "stdout",
     "output_type": "stream",
     "text": [
      "10\n",
      "11\n",
      "12\n",
      "13\n",
      "14\n",
      "15\n"
     ]
    }
   ],
   "source": [
    "# Example 4.9\n",
    "\n",
    "import numpy as np\n",
    "\n",
    "myArr = np.array([[10, 11, 12], [13, 14, 15]])\n",
    "\n",
    "for num in np.nditer(myArr): # myArr is a 2d array\n",
    "    print(num)"
   ]
  },
  {
   "cell_type": "code",
   "execution_count": 19,
   "metadata": {},
   "outputs": [
    {
     "name": "stdout",
     "output_type": "stream",
     "text": [
      "10\n",
      "11\n",
      "12\n",
      "13\n",
      "14\n",
      "15\n",
      "16\n",
      "17\n",
      "18\n",
      "19\n",
      "20\n",
      "21\n"
     ]
    }
   ],
   "source": [
    "# Example 4.10\n",
    "\n",
    "import numpy as np\n",
    "\n",
    "myArr=np.array([[[10,11,12],[13,14,15]],[[16,17,18],[19,20,21]]])\n",
    "\n",
    "for num in np.nditer(myArr): # myArr is a 3d array\n",
    "    print(num)"
   ]
  },
  {
   "cell_type": "code",
   "execution_count": 20,
   "metadata": {},
   "outputs": [],
   "source": [
    "# Iterating with Step Length\n",
    "\n",
    "# nditer( myArr[ :,: :step ] )"
   ]
  },
  {
   "cell_type": "code",
   "execution_count": 21,
   "metadata": {},
   "outputs": [
    {
     "name": "stdout",
     "output_type": "stream",
     "text": [
      "10\n",
      "12\n",
      "14\n",
      "16\n"
     ]
    }
   ],
   "source": [
    "# Example 4.11\n",
    "\n",
    "import numpy as np\n",
    "\n",
    "myArr = np.array([[10, 11, 12, 13], [14, 15, 16, 17]])\n",
    "\n",
    "for num in np.nditer(myArr[:,: :2]):\n",
    "    print(num)"
   ]
  },
  {
   "cell_type": "code",
   "execution_count": 22,
   "metadata": {},
   "outputs": [],
   "source": [
    "# Enumerating the Array\n",
    "\n",
    "# ndenumerate(myArray)"
   ]
  },
  {
   "cell_type": "code",
   "execution_count": 23,
   "metadata": {},
   "outputs": [
    {
     "name": "stdout",
     "output_type": "stream",
     "text": [
      "(0,) 0\n",
      "(1,) 1\n",
      "(2,) 2\n",
      "(3,) 3\n"
     ]
    }
   ],
   "source": [
    "# Example 4.12\n",
    "\n",
    "import numpy as np\n",
    "\n",
    "myArr = np.array([0, 1, 2, 3])\n",
    "\n",
    "for id, num in np.ndenumerate(myArr):\n",
    "    print(id, num)"
   ]
  },
  {
   "cell_type": "code",
   "execution_count": 24,
   "metadata": {},
   "outputs": [
    {
     "name": "stdout",
     "output_type": "stream",
     "text": [
      "Author: Caique Miranda\n",
      "\n",
      "Github username: caiquemiranda\n",
      "\n",
      "sys  : 3.10.5 (tags/v3.10.5:f377153, Jun  6 2022, 16:14:13) [MSC v.1929 64 bit (AMD64)]\n",
      "numpy: 1.23.0\n",
      "\n"
     ]
    }
   ],
   "source": [
    "%reload_ext watermark\n",
    "%watermark -a \"Caique Miranda\" -gu \"caiquemiranda\" -iv"
   ]
  },
  {
   "attachments": {},
   "cell_type": "markdown",
   "metadata": {},
   "source": [
    "### End."
   ]
  }
 ],
 "metadata": {
  "kernelspec": {
   "display_name": "Python 3",
   "language": "python",
   "name": "python3"
  },
  "language_info": {
   "codemirror_mode": {
    "name": "ipython",
    "version": 3
   },
   "file_extension": ".py",
   "mimetype": "text/x-python",
   "name": "python",
   "nbconvert_exporter": "python",
   "pygments_lexer": "ipython3",
   "version": "3.10.5"
  },
  "orig_nbformat": 4,
  "vscode": {
   "interpreter": {
    "hash": "74af3d2f25f1e46ebd2903d59225d79e4675ec224d56c01fc30cd168c2010d53"
   }
  }
 },
 "nbformat": 4,
 "nbformat_minor": 2
}
