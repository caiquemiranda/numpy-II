{
 "cells": [
  {
   "cell_type": "code",
   "execution_count": 1,
   "metadata": {},
   "outputs": [],
   "source": [
    "# NumPy ufuncs"
   ]
  },
  {
   "cell_type": "code",
   "execution_count": 2,
   "metadata": {},
   "outputs": [
    {
     "name": "stdout",
     "output_type": "stream",
     "text": [
      "[90 90 90 90]\n"
     ]
    }
   ],
   "source": [
    "# Example 7.1\n",
    "\n",
    "import numpy as np\n",
    "\n",
    "list1 = [10, 20, 30, 40]\n",
    "list2 = [80, 70, 60, 50]\n",
    "list3 = np.add(list1, list2)\n",
    "\n",
    "print(list3)"
   ]
  },
  {
   "cell_type": "code",
   "execution_count": 3,
   "metadata": {},
   "outputs": [],
   "source": [
    "# Check NumPy ufunc\n",
    "\n",
    "# type(np.function_name)"
   ]
  },
  {
   "cell_type": "code",
   "execution_count": 4,
   "metadata": {},
   "outputs": [
    {
     "name": "stdout",
     "output_type": "stream",
     "text": [
      "<class 'numpy.ufunc'>\n",
      "<class 'numpy.ufunc'>\n",
      "<class 'numpy.ufunc'>\n",
      "<class 'numpy.ufunc'>\n"
     ]
    }
   ],
   "source": [
    "# Example 7.2\n",
    "\n",
    "import numpy as np\n",
    "\n",
    "print(type(np.add))\n",
    "print(type(np.subtract))\n",
    "print(type(np.multiply))\n",
    "print(type(np.divide))"
   ]
  },
  {
   "cell_type": "code",
   "execution_count": 5,
   "metadata": {},
   "outputs": [],
   "source": [
    "# Create My Own ufunc\n",
    "\n",
    "# frompyfunc(myFunction, number1, number2)"
   ]
  },
  {
   "cell_type": "code",
   "execution_count": 6,
   "metadata": {},
   "outputs": [
    {
     "name": "stdout",
     "output_type": "stream",
     "text": [
      "[0 6 14 24 36]\n"
     ]
    }
   ],
   "source": [
    "# Example 7.3\n",
    "\n",
    "import numpy as np\n",
    "\n",
    "def myMultiply(a, b): # define my own function\n",
    "    return a*b\n",
    "\n",
    "myMultiply = np.frompyfunc(myMultiply, 2, 1)\n",
    "\n",
    "print(myMultiply([0, 1, 2, 3, 4 ], [5, 6, 7, 8, 9]))"
   ]
  },
  {
   "cell_type": "code",
   "execution_count": 7,
   "metadata": {},
   "outputs": [],
   "source": [
    "# Arithmetic ufunc"
   ]
  },
  {
   "cell_type": "code",
   "execution_count": 8,
   "metadata": {},
   "outputs": [
    {
     "name": "stdout",
     "output_type": "stream",
     "text": [
      "[11 22 33]\n",
      "[ 9 18 27]\n",
      "[10 40 90]\n",
      "[10. 10. 10.]\n"
     ]
    }
   ],
   "source": [
    "# Example 7.4\n",
    "import numpy as np\n",
    "\n",
    "arr1 = np.array([10,20,30])\n",
    "arr2 = np.array([1, 2, 3])\n",
    "\n",
    "a = np.add(arr1, arr2)\n",
    "s = np.subtract(arr1, arr2)\n",
    "m = np.multiply(arr1, arr2)\n",
    "d = np.divide(arr1, arr2)\n",
    "\n",
    "print(a)\n",
    "print(s)\n",
    "print(m)\n",
    "print(d)"
   ]
  },
  {
   "cell_type": "code",
   "execution_count": 9,
   "metadata": {},
   "outputs": [],
   "source": [
    "# power(), mod(), remainder()"
   ]
  },
  {
   "cell_type": "code",
   "execution_count": 10,
   "metadata": {},
   "outputs": [
    {
     "name": "stdout",
     "output_type": "stream",
     "text": [
      "[  100  1000 10000]\n",
      "[0 1 2]\n",
      "[0 1 2]\n"
     ]
    }
   ],
   "source": [
    "# Example 7.5\n",
    "\n",
    "import numpy as np\n",
    "\n",
    "arr1 = np.array([10,10,10])\n",
    "arr2 = np.array([2, 3, 4])\n",
    "\n",
    "p = np.power(arr1, arr2)\n",
    "m = np.mod(arr1, arr2)\n",
    "r = np.remainder(arr1, arr2)\n",
    "\n",
    "print(p)\n",
    "print(m)\n",
    "print(r)"
   ]
  },
  {
   "cell_type": "code",
   "execution_count": 11,
   "metadata": {},
   "outputs": [],
   "source": [
    "# trunc() & fix()\n",
    "\n",
    "# trunk([ floating_numbers ])\n",
    "# fix([ floating_numbers ])"
   ]
  },
  {
   "cell_type": "code",
   "execution_count": 12,
   "metadata": {},
   "outputs": [
    {
     "name": "stdout",
     "output_type": "stream",
     "text": [
      "[-2.  2.]\n",
      "[-2.  2.]\n"
     ]
    }
   ],
   "source": [
    "# Example 7.6\n",
    "\n",
    "import numpy as np\n",
    "\n",
    "t = np.trunc([-2.71828, 2.71828])\n",
    "f = np.fix([-2.71828, 2.71828])\n",
    "\n",
    "print(t)\n",
    "print(f)"
   ]
  },
  {
   "cell_type": "code",
   "execution_count": 13,
   "metadata": {},
   "outputs": [],
   "source": [
    "# around(), ceil(), floor()\n",
    "\n",
    "# around() returns a value being rounded off.\n",
    "# ceil() returns a least integer greater than itself.\n",
    "# floor() returns a largest integer less than itself."
   ]
  },
  {
   "cell_type": "code",
   "execution_count": 14,
   "metadata": {},
   "outputs": [
    {
     "name": "stdout",
     "output_type": "stream",
     "text": [
      "7.56\n",
      "8.0\n",
      "7.0\n"
     ]
    }
   ],
   "source": [
    "# Example 7.7\n",
    "\n",
    "import numpy as np\n",
    "\n",
    "a = np.around(7.555, 2) # “2” means two decimal places\n",
    "c = np.ceil(7.555)\n",
    "f = np.floor(7.555)\n",
    "\n",
    "print(a)\n",
    "print(c)\n",
    "print(f)"
   ]
  },
  {
   "cell_type": "code",
   "execution_count": 15,
   "metadata": {},
   "outputs": [],
   "source": [
    "# log2(), log10(), log()\n",
    "\n",
    "# log2(array) # perform log in base 2\n",
    "# log10(array) # perform log in base 10\n",
    "# log(array) # perform log in base e"
   ]
  },
  {
   "cell_type": "code",
   "execution_count": 16,
   "metadata": {},
   "outputs": [
    {
     "name": "stdout",
     "output_type": "stream",
     "text": [
      "[0.        1.        1.5849625]\n",
      "[0.         0.30103    0.47712125]\n",
      "[0.         0.69314718 1.09861229]\n"
     ]
    }
   ],
   "source": [
    "# Example 7.8\n",
    "\n",
    "import numpy as np\n",
    "\n",
    "arr = np.arange(1,4) # the range is from 1 to 3\n",
    "\n",
    "print(np.log2(arr))\n",
    "print(np.log10(arr))\n",
    "print(np.log(arr))"
   ]
  },
  {
   "cell_type": "code",
   "execution_count": 17,
   "metadata": {},
   "outputs": [],
   "source": [
    "# Log in Any Base\n",
    "\n",
    "# from math import log\n",
    "\n",
    "# math.log(number, base)"
   ]
  },
  {
   "cell_type": "code",
   "execution_count": 18,
   "metadata": {},
   "outputs": [
    {
     "name": "stdout",
     "output_type": "stream",
     "text": [
      "2.0\n"
     ]
    }
   ],
   "source": [
    "# Example 7.9\n",
    "\n",
    "from math import log\n",
    "\n",
    "import numpy as np\n",
    "\n",
    "print( log(16, 4) ) # the base is 4"
   ]
  },
  {
   "cell_type": "code",
   "execution_count": 19,
   "metadata": {},
   "outputs": [],
   "source": [
    "# Sum of Arrays\n",
    "\n",
    "# sum( [array1, array2, array3] )"
   ]
  },
  {
   "cell_type": "code",
   "execution_count": 20,
   "metadata": {},
   "outputs": [
    {
     "name": "stdout",
     "output_type": "stream",
     "text": [
      "180\n"
     ]
    }
   ],
   "source": [
    "# Example 7.10\n",
    "\n",
    "import numpy as np\n",
    "\n",
    "a1 = np.array([10, 20, 30])\n",
    "a2 = np.array([10, 20, 30])\n",
    "a3 = np.array([10, 20, 30])\n",
    "\n",
    "myArr = np.sum([a1, a2, a3])\n",
    "\n",
    "print(myArr)"
   ]
  },
  {
   "cell_type": "code",
   "execution_count": 21,
   "metadata": {},
   "outputs": [],
   "source": [
    "# Sum & Axis=0"
   ]
  },
  {
   "cell_type": "code",
   "execution_count": 22,
   "metadata": {},
   "outputs": [
    {
     "name": "stdout",
     "output_type": "stream",
     "text": [
      "[5 7 9]\n"
     ]
    }
   ],
   "source": [
    "# Example 7.11\n",
    "\n",
    "import numpy as np\n",
    "\n",
    "a1 = np.array([1, 2, 3])\n",
    "a2 = np.array([4, 5, 6])\n",
    "\n",
    "myArr = np.sum([a1, a2], axis=0)\n",
    "\n",
    "print(myArr)"
   ]
  },
  {
   "cell_type": "code",
   "execution_count": 23,
   "metadata": {},
   "outputs": [],
   "source": [
    "# Sum & Axis=1"
   ]
  },
  {
   "cell_type": "code",
   "execution_count": 24,
   "metadata": {},
   "outputs": [
    {
     "name": "stdout",
     "output_type": "stream",
     "text": [
      "[ 6 15]\n"
     ]
    }
   ],
   "source": [
    "# Example 7.12\n",
    "\n",
    "import numpy as np\n",
    "\n",
    "a1 = np.array([1, 2, 3])\n",
    "a2 = np.array([4, 5, 6])\n",
    "\n",
    "myArr = np.sum([a1, a2], axis=1)\n",
    "\n",
    "print(myArr)"
   ]
  },
  {
   "cell_type": "code",
   "execution_count": 25,
   "metadata": {},
   "outputs": [
    {
     "name": "stdout",
     "output_type": "stream",
     "text": [
      "Author: Caique Miranda\n",
      "\n",
      "Github username: caiquemiranda\n",
      "\n",
      "numpy: 1.23.0\n",
      "sys  : 3.10.5 (tags/v3.10.5:f377153, Jun  6 2022, 16:14:13) [MSC v.1929 64 bit (AMD64)]\n",
      "\n"
     ]
    }
   ],
   "source": [
    "%reload_ext watermark\n",
    "%watermark -a \"Caique Miranda\" -gu \"caiquemiranda\" -iv"
   ]
  },
  {
   "attachments": {},
   "cell_type": "markdown",
   "metadata": {},
   "source": [
    "### End."
   ]
  }
 ],
 "metadata": {
  "kernelspec": {
   "display_name": "Python 3",
   "language": "python",
   "name": "python3"
  },
  "language_info": {
   "codemirror_mode": {
    "name": "ipython",
    "version": 3
   },
   "file_extension": ".py",
   "mimetype": "text/x-python",
   "name": "python",
   "nbconvert_exporter": "python",
   "pygments_lexer": "ipython3",
   "version": "3.10.5"
  },
  "orig_nbformat": 4,
  "vscode": {
   "interpreter": {
    "hash": "74af3d2f25f1e46ebd2903d59225d79e4675ec224d56c01fc30cd168c2010d53"
   }
  }
 },
 "nbformat": 4,
 "nbformat_minor": 2
}
