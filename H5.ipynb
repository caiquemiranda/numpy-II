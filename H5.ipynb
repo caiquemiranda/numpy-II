{
 "cells": [
  {
   "cell_type": "code",
   "execution_count": 1,
   "metadata": {},
   "outputs": [],
   "source": [
    "# Concatenating Arrays\n",
    "\n",
    "# np.concatenate((array1, array2))"
   ]
  },
  {
   "cell_type": "code",
   "execution_count": 2,
   "metadata": {},
   "outputs": [
    {
     "name": "stdout",
     "output_type": "stream",
     "text": [
      "[0 1 2 3 4 5]\n"
     ]
    }
   ],
   "source": [
    "# Example 5.1\n",
    "\n",
    "import numpy as np\n",
    "\n",
    "a1 = np.array([0, 1, 2])\n",
    "a2 = np.array([3, 4, 5])\n",
    "\n",
    "myArr = np.concatenate((a1, a2))\n",
    "\n",
    "print(myArr)"
   ]
  },
  {
   "cell_type": "code",
   "execution_count": 3,
   "metadata": {},
   "outputs": [],
   "source": [
    "# Axis, a Big Issue\n",
    "\n",
    "# axis = 0 # join two arrays vertically\n",
    "# axis = 1 # join two arrays horizontally"
   ]
  },
  {
   "cell_type": "code",
   "execution_count": 4,
   "metadata": {},
   "outputs": [],
   "source": [
    "# Example 5.2\n",
    "# Assume that there are two 2-d arrays that will be concatenated:\n",
    "\n",
    "# Array1 Array2\n",
    "# [1, 2][5, 6]\n",
    "# [3, 4][7, 8]"
   ]
  },
  {
   "cell_type": "code",
   "execution_count": 5,
   "metadata": {},
   "outputs": [],
   "source": [
    "# Concatenate Arrays (axis=0)\n",
    "\n",
    "# np.concatenate((array1, array2), axis=0)"
   ]
  },
  {
   "cell_type": "code",
   "execution_count": 6,
   "metadata": {},
   "outputs": [
    {
     "name": "stdout",
     "output_type": "stream",
     "text": [
      "[[11 12 13]\n",
      " [14 15 16]\n",
      " [21 22 23]\n",
      " [24 25 26]]\n"
     ]
    }
   ],
   "source": [
    "# Example 5.3\n",
    "\n",
    "import numpy as np\n",
    "\n",
    "a1 = np.array([[11,12,13], [14,15,16]])\n",
    "a2 = np.array([[21,22,23], [24,25,26]])\n",
    "\n",
    "myArr = np.concatenate((a1, a2), axis=0)\n",
    "\n",
    "print(myArr)"
   ]
  },
  {
   "cell_type": "code",
   "execution_count": 7,
   "metadata": {},
   "outputs": [],
   "source": [
    "# Concatenate Arrays (axis=1)\n",
    "\n",
    "# np.concatenate((array1, array2), axis=1)"
   ]
  },
  {
   "cell_type": "code",
   "execution_count": 8,
   "metadata": {},
   "outputs": [
    {
     "name": "stdout",
     "output_type": "stream",
     "text": [
      "[[11 12 13 21 22 23]\n",
      " [14 15 16 24 25 26]]\n"
     ]
    }
   ],
   "source": [
    "# Example 5.4\n",
    "\n",
    "import numpy as np\n",
    "\n",
    "a1 = np.array([[11,12,13], [14,15,16]])\n",
    "a2 = np.array([[21,22,23], [24,25,26]])\n",
    "\n",
    "myArr = np.concatenate((a1, a2), axis=1)\n",
    "\n",
    "print(myArr)"
   ]
  },
  {
   "cell_type": "code",
   "execution_count": 9,
   "metadata": {},
   "outputs": [],
   "source": [
    "# Stack Arrays (axis=0)\n",
    "\n",
    "# np.stack((array1, array2), axis=0)"
   ]
  },
  {
   "cell_type": "code",
   "execution_count": 10,
   "metadata": {},
   "outputs": [
    {
     "name": "stdout",
     "output_type": "stream",
     "text": [
      "[[[11 12 13]\n",
      "  [14 15 16]]\n",
      "\n",
      " [[21 22 23]\n",
      "  [24 25 26]]]\n"
     ]
    }
   ],
   "source": [
    "# Example 5.5\n",
    "\n",
    "import numpy as np\n",
    "\n",
    "a1 = np.array([[11,12,13], [14,15,16]])\n",
    "a2 = np.array([[21,22,23], [24,25,26]])\n",
    "\n",
    "myArr = np.stack((a1, a2), axis=0)\n",
    "\n",
    "print(myArr)"
   ]
  },
  {
   "cell_type": "code",
   "execution_count": 11,
   "metadata": {},
   "outputs": [],
   "source": [
    "# Stack Arrays (axis=1)\n",
    "\n",
    "# np.stack((array1, array2), axis=1)"
   ]
  },
  {
   "cell_type": "code",
   "execution_count": 12,
   "metadata": {},
   "outputs": [
    {
     "name": "stdout",
     "output_type": "stream",
     "text": [
      "[[[11 12 13]\n",
      "  [21 22 23]]\n",
      "\n",
      " [[14 15 16]\n",
      "  [24 25 26]]]\n"
     ]
    }
   ],
   "source": [
    "# Example 5.6\n",
    "\n",
    "import numpy as np\n",
    "\n",
    "a1 = np.array([[11,12,13], [14,15,16]])\n",
    "a2 = np.array([[21,22,23], [24,25,26]])\n",
    "\n",
    "myArr = np.stack((a1, a2), axis=1)\n",
    "\n",
    "print(myArr)"
   ]
  },
  {
   "cell_type": "code",
   "execution_count": 13,
   "metadata": {},
   "outputs": [],
   "source": [
    "# Join Arrays Vertically\n",
    "\n",
    "# np.vstack((array1, array2))"
   ]
  },
  {
   "cell_type": "code",
   "execution_count": 14,
   "metadata": {},
   "outputs": [
    {
     "name": "stdout",
     "output_type": "stream",
     "text": [
      "[[11 12 13]\n",
      " [14 15 16]\n",
      " [21 22 23]\n",
      " [24 25 26]]\n"
     ]
    }
   ],
   "source": [
    "# Example 5.7\n",
    "\n",
    "import numpy as np\n",
    "\n",
    "a1 = np.array([[11,12,13], [14,15,16]])\n",
    "a2 = np.array([[21,22,23], [24,25,26]])\n",
    "\n",
    "myArr = np.vstack((a1, a2))\n",
    "\n",
    "print(myArr)"
   ]
  },
  {
   "cell_type": "code",
   "execution_count": 15,
   "metadata": {},
   "outputs": [],
   "source": [
    "# Join Arrays Horizontally\n",
    "\n",
    "# np.hstack((array1, array2))"
   ]
  },
  {
   "cell_type": "code",
   "execution_count": 16,
   "metadata": {},
   "outputs": [
    {
     "name": "stdout",
     "output_type": "stream",
     "text": [
      "[[11 12 13 21 22 23]\n",
      " [14 15 16 24 25 26]]\n"
     ]
    }
   ],
   "source": [
    "# Example 5.8\n",
    "\n",
    "import numpy as np\n",
    "\n",
    "a1 = np.array([[11,12,13], [14,15,16]])\n",
    "a2 = np.array([[21,22,23], [24,25,26]])\n",
    "\n",
    "myArr = np.hstack((a1, a2))\n",
    "\n",
    "print(myArr)"
   ]
  },
  {
   "cell_type": "code",
   "execution_count": 17,
   "metadata": {},
   "outputs": [],
   "source": [
    "# Join 1d Arrays to be 3d Array\n",
    "\n",
    "# np.dstack((array1,array2))"
   ]
  },
  {
   "cell_type": "code",
   "execution_count": 18,
   "metadata": {},
   "outputs": [
    {
     "name": "stdout",
     "output_type": "stream",
     "text": [
      "[[[11 14]\n",
      "  [12 15]\n",
      "  [13 16]]]\n"
     ]
    }
   ],
   "source": [
    "# Example 5.9\n",
    "\n",
    "import numpy as np\n",
    "\n",
    "a1 = np.array([11,12,13]) # 1d array\n",
    "a2 = np.array([14,15,16]) # 1d array\n",
    "\n",
    "myArr = np.dstack((a1,a2))\n",
    "\n",
    "print(myArr)"
   ]
  },
  {
   "cell_type": "code",
   "execution_count": 19,
   "metadata": {},
   "outputs": [],
   "source": [
    "# Join 2d Arrays to be 3d Array\n",
    "\n",
    "# np.dstack((array1,array2))"
   ]
  },
  {
   "cell_type": "code",
   "execution_count": 20,
   "metadata": {},
   "outputs": [
    {
     "name": "stdout",
     "output_type": "stream",
     "text": [
      "[[[11 14]]\n",
      "\n",
      " [[12 15]]\n",
      "\n",
      " [[13 16]]]\n"
     ]
    }
   ],
   "source": [
    "# Example 5.10\n",
    "\n",
    "import numpy as np\n",
    "\n",
    "a1 = np.array([[11],[12],[13]]) # 2d array\n",
    "a2 = np.array([[14],[15],[16]]) # 2d array\n",
    "\n",
    "myArr = np.dstack((a1,a2))\n",
    "\n",
    "print(myArr)"
   ]
  },
  {
   "cell_type": "code",
   "execution_count": 21,
   "metadata": {},
   "outputs": [],
   "source": [
    "# Sorting Number Array\n",
    "\n",
    "# np.sort(array)"
   ]
  },
  {
   "cell_type": "code",
   "execution_count": 22,
   "metadata": {},
   "outputs": [
    {
     "name": "stdout",
     "output_type": "stream",
     "text": [
      "[[0 1 2 3]\n",
      " [4 5 6 7]]\n"
     ]
    }
   ],
   "source": [
    "# Example 5.11\n",
    "\n",
    "import numpy as np\n",
    "\n",
    "myArr = np.array([[ 2, 0, 3, 1 ], [ 7, 5, 6, 4 ]])\n",
    "\n",
    "print(np.sort(myArr))"
   ]
  },
  {
   "cell_type": "code",
   "execution_count": 23,
   "metadata": {},
   "outputs": [],
   "source": [
    "# Sort String Array\n",
    "\n",
    "# np.sort(array)"
   ]
  },
  {
   "cell_type": "code",
   "execution_count": 24,
   "metadata": {},
   "outputs": [
    {
     "name": "stdout",
     "output_type": "stream",
     "text": [
      "['antilope' 'buffalo' 'camel' 'dove']\n"
     ]
    }
   ],
   "source": [
    "# Example 5.12\n",
    "\n",
    "import numpy as np\n",
    "\n",
    "myArr = np.array(['dove', 'buffalo', 'antilope','camel'])\n",
    "\n",
    "print(np.sort(myArr))"
   ]
  },
  {
   "cell_type": "code",
   "execution_count": 25,
   "metadata": {},
   "outputs": [
    {
     "name": "stdout",
     "output_type": "stream",
     "text": [
      "Author: Caique Miranda\n",
      "\n",
      "Github username: caiquemiranda\n",
      "\n",
      "numpy: 1.23.0\n",
      "sys  : 3.10.5 (tags/v3.10.5:f377153, Jun  6 2022, 16:14:13) [MSC v.1929 64 bit (AMD64)]\n",
      "\n"
     ]
    }
   ],
   "source": [
    "%reload_ext watermark\n",
    "%watermark -a \"Caique Miranda\" -gu \"caiquemiranda\" -iv"
   ]
  },
  {
   "attachments": {},
   "cell_type": "markdown",
   "metadata": {},
   "source": [
    "### End."
   ]
  }
 ],
 "metadata": {
  "kernelspec": {
   "display_name": "Python 3",
   "language": "python",
   "name": "python3"
  },
  "language_info": {
   "codemirror_mode": {
    "name": "ipython",
    "version": 3
   },
   "file_extension": ".py",
   "mimetype": "text/x-python",
   "name": "python",
   "nbconvert_exporter": "python",
   "pygments_lexer": "ipython3",
   "version": "3.10.5"
  },
  "orig_nbformat": 4,
  "vscode": {
   "interpreter": {
    "hash": "74af3d2f25f1e46ebd2903d59225d79e4675ec224d56c01fc30cd168c2010d53"
   }
  }
 },
 "nbformat": 4,
 "nbformat_minor": 2
}
