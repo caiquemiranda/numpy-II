{
 "cells": [
  {
   "cell_type": "code",
   "execution_count": 1,
   "metadata": {},
   "outputs": [],
   "source": [
    "# Split an Array\n",
    "\n",
    "# array_split( array, number )"
   ]
  },
  {
   "cell_type": "code",
   "execution_count": 2,
   "metadata": {},
   "outputs": [
    {
     "name": "stdout",
     "output_type": "stream",
     "text": [
      "[array([10, 20]), array([30, 40]), array([50, 60])]\n"
     ]
    }
   ],
   "source": [
    "# Example 6.1\n",
    "\n",
    "import numpy as np\n",
    "\n",
    "myArr = np.array([10, 20, 30, 40, 50, 60])\n",
    "arr = np.array_split(myArr, 3)\n",
    "\n",
    "print(arr)"
   ]
  },
  {
   "cell_type": "code",
   "execution_count": 3,
   "metadata": {},
   "outputs": [],
   "source": [
    "# Split Less Elements"
   ]
  },
  {
   "cell_type": "code",
   "execution_count": 4,
   "metadata": {},
   "outputs": [
    {
     "name": "stdout",
     "output_type": "stream",
     "text": [
      "[array([10, 20]), array([30, 40]), array([50]), array([60])]\n"
     ]
    }
   ],
   "source": [
    "# Example 6.2\n",
    "\n",
    "import numpy as np\n",
    "\n",
    "myArr = np.array([10, 20, 30, 40, 50, 60])\n",
    "arr = np.array_split(myArr, 4)\n",
    "\n",
    "print(arr)"
   ]
  },
  {
   "cell_type": "code",
   "execution_count": 5,
   "metadata": {},
   "outputs": [],
   "source": [
    "# Access Split Array\n",
    "\n",
    "# arr[index] # arr is an array that has been split"
   ]
  },
  {
   "cell_type": "code",
   "execution_count": 6,
   "metadata": {},
   "outputs": [
    {
     "name": "stdout",
     "output_type": "stream",
     "text": [
      "[array([10, 20]), array([30, 40]), array([50, 60])]\n",
      "[10 20]\n",
      "[30 40]\n",
      "[50 60]\n"
     ]
    }
   ],
   "source": [
    "# Example 6.3\n",
    "\n",
    "import numpy as np\n",
    "\n",
    "myArr = np.array([10, 20, 30, 40, 50, 60])\n",
    "arr = np.array_split(myArr, 3)\n",
    "\n",
    "print(arr)\n",
    "print(arr[0])\n",
    "print(arr[1])\n",
    "print(arr[2])"
   ]
  },
  {
   "cell_type": "code",
   "execution_count": 7,
   "metadata": {},
   "outputs": [],
   "source": [
    "# Split 2-D Arrays\n",
    "\n",
    "# array_split( array, number )"
   ]
  },
  {
   "cell_type": "code",
   "execution_count": 8,
   "metadata": {},
   "outputs": [
    {
     "name": "stdout",
     "output_type": "stream",
     "text": [
      "[array([[1, 2],\n",
      "       [3, 4]]), array([[5, 6],\n",
      "       [7, 8]])]\n"
     ]
    }
   ],
   "source": [
    "# Example 6.4\n",
    "\n",
    "import numpy as np\n",
    "\n",
    "myArr = np.array([[1, 2], [3, 4], [5, 6], [7, 8]]) # 2d array\n",
    "arr = np.array_split(myArr, 2)\n",
    "\n",
    "print(arr)"
   ]
  },
  {
   "cell_type": "code",
   "execution_count": 9,
   "metadata": {},
   "outputs": [],
   "source": [
    "# Split Vertically\n",
    "\n",
    "# vsplit(array, number)"
   ]
  },
  {
   "cell_type": "code",
   "execution_count": 10,
   "metadata": {},
   "outputs": [
    {
     "name": "stdout",
     "output_type": "stream",
     "text": [
      "[array([[1, 2],\n",
      "       [3, 4]]), array([[5, 6],\n",
      "       [7, 8]])]\n"
     ]
    }
   ],
   "source": [
    "# Example 6.5\n",
    "\n",
    "import numpy as np\n",
    "\n",
    "myArr = np.array([[1, 2], [3, 4], [5, 6], [7, 8]]) # 2d array\n",
    "arr = np.vsplit(myArr, 2)\n",
    "\n",
    "print(arr)"
   ]
  },
  {
   "cell_type": "code",
   "execution_count": 11,
   "metadata": {},
   "outputs": [],
   "source": [
    "# Split Horizontally\n",
    "\n",
    "# hsplit(array, number)"
   ]
  },
  {
   "cell_type": "code",
   "execution_count": 12,
   "metadata": {},
   "outputs": [
    {
     "name": "stdout",
     "output_type": "stream",
     "text": [
      "[array([[1],\n",
      "       [3],\n",
      "       [5],\n",
      "       [7]]), array([[2],\n",
      "       [4],\n",
      "       [6],\n",
      "       [8]])]\n"
     ]
    }
   ],
   "source": [
    "# Example 6.6\n",
    "\n",
    "import numpy as np\n",
    "\n",
    "myArr = np.array([[1, 2], [3, 4], [5, 6], [7, 8]]) # 2d array\n",
    "arr = np.hsplit(myArr, 2)\n",
    "\n",
    "print(arr)"
   ]
  },
  {
   "cell_type": "code",
   "execution_count": 13,
   "metadata": {},
   "outputs": [],
   "source": [
    "# Find Array Index\n",
    "\n",
    "# where(array == value)"
   ]
  },
  {
   "cell_type": "code",
   "execution_count": 14,
   "metadata": {},
   "outputs": [
    {
     "name": "stdout",
     "output_type": "stream",
     "text": [
      "(array([1, 3, 6], dtype=int64),)\n"
     ]
    }
   ],
   "source": [
    "# Example 6.7\n",
    "\n",
    "import numpy as np\n",
    "\n",
    "myArr = np.array([0, 3, 2, 3, 4, 5, 3])\n",
    "arr = np.where(myArr == 3)\n",
    "\n",
    "print(arr)"
   ]
  },
  {
   "cell_type": "code",
   "execution_count": 15,
   "metadata": {},
   "outputs": [],
   "source": [
    "# Where is Even/Odd Number?"
   ]
  },
  {
   "cell_type": "code",
   "execution_count": 16,
   "metadata": {},
   "outputs": [
    {
     "name": "stdout",
     "output_type": "stream",
     "text": [
      "(array([0, 3, 6, 7], dtype=int64),)\n",
      "(array([1, 2, 4, 5], dtype=int64),)\n"
     ]
    }
   ],
   "source": [
    "# Example 6.8\n",
    "\n",
    "import numpy as np\n",
    "\n",
    "myArr = np.array([ 10, 55, 21, 62, 29, 75, 36, 98])\n",
    "\n",
    "even = np.where(myArr%2==0)\n",
    "print(even)\n",
    "\n",
    "odd = np.where(myArr%2==1)\n",
    "print(odd)"
   ]
  },
  {
   "cell_type": "code",
   "execution_count": 17,
   "metadata": {},
   "outputs": [],
   "source": [
    "# Search Index in a Location\n",
    "\n",
    "# searchsorted( array, value )"
   ]
  },
  {
   "cell_type": "code",
   "execution_count": 18,
   "metadata": {},
   "outputs": [
    {
     "name": "stdout",
     "output_type": "stream",
     "text": [
      "2\n",
      "3\n"
     ]
    }
   ],
   "source": [
    "# Example 6.9\n",
    "\n",
    "import numpy as np\n",
    "\n",
    "myArr = np.array([24, 35, 46, 57, 68])\n",
    "arr1 = np.searchsorted(myArr, 45)\n",
    "arr2 = np.searchsorted(myArr, 47)\n",
    "\n",
    "print(arr1)\n",
    "print(arr2)"
   ]
  },
  {
   "cell_type": "code",
   "execution_count": 19,
   "metadata": {},
   "outputs": [],
   "source": [
    "# Search More Indexes\n",
    "\n",
    "# searchsorted( array, [v1, v2, v3,…] )"
   ]
  },
  {
   "cell_type": "code",
   "execution_count": 20,
   "metadata": {},
   "outputs": [
    {
     "name": "stdout",
     "output_type": "stream",
     "text": [
      "[1 3 5]\n"
     ]
    }
   ],
   "source": [
    "# Example 6.10\n",
    "\n",
    "import numpy as np\n",
    "\n",
    "myArr = np.array([13, 24, 35, 46, 57, 68, 79])\n",
    "arr = np.searchsorted(myArr, [15, 45, 65])\n",
    "\n",
    "print(arr)"
   ]
  },
  {
   "cell_type": "code",
   "execution_count": 21,
   "metadata": {},
   "outputs": [],
   "source": [
    "# Filter Array by Boolean"
   ]
  },
  {
   "cell_type": "code",
   "execution_count": 22,
   "metadata": {},
   "outputs": [
    {
     "name": "stdout",
     "output_type": "stream",
     "text": [
      "[0 2 5]\n"
     ]
    }
   ],
   "source": [
    "# Example 6.11\n",
    "\n",
    "import numpy as np\n",
    "\n",
    "myArr = np.array([0, 1, 2, 3, 4, 5])\n",
    "arr = myArr[[True, False, True, False, False, True]]\n",
    "\n",
    "print(arr)"
   ]
  },
  {
   "cell_type": "code",
   "execution_count": 23,
   "metadata": {},
   "outputs": [],
   "source": [
    "# Filter Array by Condition"
   ]
  },
  {
   "cell_type": "code",
   "execution_count": 24,
   "metadata": {},
   "outputs": [
    {
     "name": "stdout",
     "output_type": "stream",
     "text": [
      "[False False False  True  True  True]\n",
      "[3 4 5]\n"
     ]
    }
   ],
   "source": [
    "# Example 6.12\n",
    "\n",
    "import numpy as np\n",
    "\n",
    "myArr = np.array([0, 1, 2, 3, 4, 5])\n",
    "\n",
    "filter = myArr >= 3 # return true if meet the condition\n",
    "arr = myArr[filter]\n",
    "\n",
    "print(filter)\n",
    "print(arr)"
   ]
  },
  {
   "cell_type": "code",
   "execution_count": 25,
   "metadata": {},
   "outputs": [
    {
     "name": "stdout",
     "output_type": "stream",
     "text": [
      "Author: Caique Miranda\n",
      "\n",
      "Github username: caiquemiranda\n",
      "\n",
      "numpy: 1.23.0\n",
      "sys  : 3.10.5 (tags/v3.10.5:f377153, Jun  6 2022, 16:14:13) [MSC v.1929 64 bit (AMD64)]\n",
      "\n"
     ]
    }
   ],
   "source": [
    "%reload_ext watermark\n",
    "%watermark -a \"Caique Miranda\" -gu \"caiquemiranda\" -iv"
   ]
  },
  {
   "attachments": {},
   "cell_type": "markdown",
   "metadata": {},
   "source": [
    "### End."
   ]
  }
 ],
 "metadata": {
  "kernelspec": {
   "display_name": "Python 3",
   "language": "python",
   "name": "python3"
  },
  "language_info": {
   "codemirror_mode": {
    "name": "ipython",
    "version": 3
   },
   "file_extension": ".py",
   "mimetype": "text/x-python",
   "name": "python",
   "nbconvert_exporter": "python",
   "pygments_lexer": "ipython3",
   "version": "3.10.5"
  },
  "orig_nbformat": 4,
  "vscode": {
   "interpreter": {
    "hash": "74af3d2f25f1e46ebd2903d59225d79e4675ec224d56c01fc30cd168c2010d53"
   }
  }
 },
 "nbformat": 4,
 "nbformat_minor": 2
}
