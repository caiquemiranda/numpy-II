{
 "cells": [
  {
   "cell_type": "code",
   "execution_count": 1,
   "metadata": {},
   "outputs": [],
   "source": [
    "# High Dimension Array\n",
    "\n",
    "# ndmin = number"
   ]
  },
  {
   "cell_type": "code",
   "execution_count": 2,
   "metadata": {},
   "outputs": [
    {
     "name": "stdout",
     "output_type": "stream",
     "text": [
      "[[[0 1 2 3]]]\n",
      "[[[[0 1 2 3]]]]\n",
      "[[[[[0 1 2 3]]]]]\n"
     ]
    }
   ],
   "source": [
    "# Example 2.1\n",
    "\n",
    "import numpy as np\n",
    "\n",
    "arr3 = np.array([ 0, 1, 2, 3 ], ndmin=3) # define 3d array\n",
    "arr4 = np.array([ 0, 1, 2, 3 ], ndmin=4) # define 4d array\n",
    "arr5 = np.array([ 0, 1, 2, 3 ], ndmin=5) # define 5d array\n",
    "print(arr3)\n",
    "print(arr4)\n",
    "print(arr5)"
   ]
  },
  {
   "cell_type": "code",
   "execution_count": 3,
   "metadata": {},
   "outputs": [],
   "source": [
    "# The Number of Dimension\n",
    "\n",
    "# myArray.ndim"
   ]
  },
  {
   "cell_type": "code",
   "execution_count": 4,
   "metadata": {},
   "outputs": [
    {
     "name": "stdout",
     "output_type": "stream",
     "text": [
      "0\n",
      "1\n",
      "2\n",
      "3\n"
     ]
    }
   ],
   "source": [
    "# Example 2.2\n",
    "\n",
    "import numpy as np\n",
    "\n",
    "arr0 = np.array(100) # 0d array\n",
    "arr1 = np.array([0, 1, 2, 3, 4, 5]) # 1d array\n",
    "arr2 = np.array([[0, 1, 2], [3, 4, 5,]]) # 2d array\n",
    "arr3 = np.array([[[0,1,2], [3,4,5], [6,7,8]]]) # 3d array\n",
    "print(arr0.ndim)\n",
    "print(arr1.ndim)\n",
    "print(arr2.ndim)\n",
    "print(arr3.ndim)"
   ]
  },
  {
   "cell_type": "code",
   "execution_count": 5,
   "metadata": {},
   "outputs": [],
   "source": [
    "# Access the Array Element\n",
    "\n",
    "# myArray[index]"
   ]
  },
  {
   "cell_type": "code",
   "execution_count": 6,
   "metadata": {},
   "outputs": [
    {
     "name": "stdout",
     "output_type": "stream",
     "text": [
      "10\n",
      "13\n"
     ]
    }
   ],
   "source": [
    "# Example 2.3\n",
    "\n",
    "import numpy as np\n",
    "\n",
    "myArray = np.array([10, 11, 12, 13, 14])\n",
    "\n",
    "print(myArray[0])\n",
    "print(myArray[3])"
   ]
  },
  {
   "cell_type": "code",
   "execution_count": 7,
   "metadata": {},
   "outputs": [],
   "source": [
    "# Calculate the Element Values"
   ]
  },
  {
   "cell_type": "code",
   "execution_count": 8,
   "metadata": {},
   "outputs": [
    {
     "name": "stdout",
     "output_type": "stream",
     "text": [
      "23\n",
      "132\n"
     ]
    }
   ],
   "source": [
    "# Example 2.4\n",
    "\n",
    "import numpy as np\n",
    "\n",
    "myArray = np.array([10, 11, 12, 13, 14])\n",
    "\n",
    "print(myArray[0] + myArray[3])\n",
    "print(myArray[1] * myArray[2])"
   ]
  },
  {
   "cell_type": "code",
   "execution_count": 9,
   "metadata": {},
   "outputs": [],
   "source": [
    "# Access Two-Dimensional Array\n",
    "\n",
    "# myArray[ row, col ]"
   ]
  },
  {
   "cell_type": "code",
   "execution_count": 10,
   "metadata": {},
   "outputs": [
    {
     "name": "stdout",
     "output_type": "stream",
     "text": [
      "The value in row 0 and col 3 is:  13\n",
      "The value in row 1 and col 2 is:  17\n"
     ]
    }
   ],
   "source": [
    "# Example 2.5\n",
    "\n",
    "import numpy as np\n",
    "\n",
    "arr = np.array([[10,11,12,13,14], [15,16,17,18,19]])\n",
    "\n",
    "print ('The value in row 0 and col 3 is: ', arr[0,3])\n",
    "print ('The value in row 1 and col 2 is: ', arr[1,2])"
   ]
  },
  {
   "cell_type": "code",
   "execution_count": 11,
   "metadata": {},
   "outputs": [],
   "source": [
    "# Last Index\n",
    "\n",
    "# myArray[-1, -1] # access the last row and the last col"
   ]
  },
  {
   "cell_type": "code",
   "execution_count": 12,
   "metadata": {},
   "outputs": [
    {
     "name": "stdout",
     "output_type": "stream",
     "text": [
      "The value in row 0 and the last col is:  14\n",
      "The value in the last row and col 2 is:  17\n",
      "The value in the last row & the last col is:  19\n"
     ]
    }
   ],
   "source": [
    "# Example 2.6\n",
    "\n",
    "import numpy as np\n",
    "\n",
    "arr = np.array([[10,11,12,13,14], [15,16,17,18,19]])\n",
    "\n",
    "print ('The value in row 0 and the last col is: ', arr[0,-1])\n",
    "print ('The value in the last row and col 2 is: ', arr[-1,2])\n",
    "print ('The value in the last row & the last col is: ', arr[-1,-1])"
   ]
  },
  {
   "cell_type": "code",
   "execution_count": 13,
   "metadata": {},
   "outputs": [],
   "source": [
    "# NumPy Slicing\n",
    "\n",
    "# [ start : end : step ]"
   ]
  },
  {
   "cell_type": "code",
   "execution_count": 14,
   "metadata": {},
   "outputs": [
    {
     "name": "stdout",
     "output_type": "stream",
     "text": [
      "[12 14 16]\n",
      "[12 13 14 15 16]\n"
     ]
    }
   ],
   "source": [
    "# Example 2.7\n",
    "\n",
    "import numpy as np\n",
    "\n",
    "arr = np.array([10, 11, 12, 13, 14, 15, 16, 17, 18])\n",
    "\n",
    "print(arr[ 2:7:2 ])\n",
    "print(arr[ 2:7 ])"
   ]
  },
  {
   "cell_type": "code",
   "execution_count": 15,
   "metadata": {},
   "outputs": [],
   "source": [
    "# Slicing by Default\n",
    "\n",
    "#The default value of “start” is the first index.\n",
    "#The default value of “end” is the last index.\n",
    "#The default value of “step” is 1"
   ]
  },
  {
   "cell_type": "code",
   "execution_count": 16,
   "metadata": {},
   "outputs": [
    {
     "name": "stdout",
     "output_type": "stream",
     "text": [
      "[10 11 12 13 14]\n",
      "[15 16 17 18]\n"
     ]
    }
   ],
   "source": [
    "# Example 2.8\n",
    "\n",
    "import numpy as np\n",
    "\n",
    "arr = np.array([10, 11, 12, 13, 14, 15, 16, 17, 18])\n",
    "\n",
    "print(arr[ :5])\n",
    "print(arr[5: ])"
   ]
  },
  {
   "cell_type": "code",
   "execution_count": 17,
   "metadata": {},
   "outputs": [],
   "source": [
    "# Negative Slicing\n",
    "\n",
    "# arr[ -index1: -index2 ]"
   ]
  },
  {
   "cell_type": "code",
   "execution_count": 18,
   "metadata": {},
   "outputs": [
    {
     "name": "stdout",
     "output_type": "stream",
     "text": [
      "[14 15 16]\n",
      "[12 13 14 15]\n"
     ]
    }
   ],
   "source": [
    "# Example 2.9\n",
    "\n",
    "import numpy as np\n",
    "\n",
    "arr = np.array([10, 11, 12, 13, 14, 15, 16, 17, 18])\n",
    "\n",
    "print(arr[-5 : -2])\n",
    "print(arr[-7 : -3])"
   ]
  },
  {
   "cell_type": "code",
   "execution_count": 19,
   "metadata": {},
   "outputs": [],
   "source": [
    "# 2-D Array Slicing (1)\n",
    "\n",
    "# myArray[row1: row2, col1: col2]"
   ]
  },
  {
   "cell_type": "code",
   "execution_count": 20,
   "metadata": {},
   "outputs": [
    {
     "name": "stdout",
     "output_type": "stream",
     "text": [
      "[[12 13]\n",
      " [17 18]]\n"
     ]
    }
   ],
   "source": [
    "# Example 2.10\n",
    "\n",
    "import numpy as np\n",
    "\n",
    "arr = np.array([[10, 11, 12, 13, 14], [15,16,17,18,19]])\n",
    "\n",
    "print(arr[0:2, 2:4])"
   ]
  },
  {
   "cell_type": "code",
   "execution_count": 21,
   "metadata": {},
   "outputs": [],
   "source": [
    "# 2-D Array Slicing (2)\n",
    "\n",
    "# myArray[row, col1:col2]"
   ]
  },
  {
   "cell_type": "code",
   "execution_count": 22,
   "metadata": {},
   "outputs": [
    {
     "name": "stdout",
     "output_type": "stream",
     "text": [
      "[11 12 13]\n",
      "[17 18]\n"
     ]
    }
   ],
   "source": [
    "# Example 2.11\n",
    "\n",
    "import numpy as np\n",
    "\n",
    "arr = np.array([[10, 11, 12, 13, 14], [15,16,17,18,19]])\n",
    "\n",
    "print(arr[0, 1:4])\n",
    "print(arr[1, 2:4])"
   ]
  },
  {
   "cell_type": "code",
   "execution_count": 23,
   "metadata": {},
   "outputs": [],
   "source": [
    "# 2-D Array Slicing (3)\n",
    "\n",
    "# myArray[row1: row2, col]"
   ]
  },
  {
   "cell_type": "code",
   "execution_count": 24,
   "metadata": {},
   "outputs": [
    {
     "name": "stdout",
     "output_type": "stream",
     "text": [
      "[12 17]\n",
      "[13]\n"
     ]
    }
   ],
   "source": [
    "# Example 2.12\n",
    "\n",
    "import numpy as np\n",
    "\n",
    "arr = np.array([[10, 11, 12, 13, 14], [15,16,17,18,19]])\n",
    "\n",
    "print(arr[0:2, 2])\n",
    "print(arr[0:1, 3])"
   ]
  },
  {
   "cell_type": "code",
   "execution_count": 25,
   "metadata": {},
   "outputs": [
    {
     "name": "stdout",
     "output_type": "stream",
     "text": [
      "Author: Caique Miranda\n",
      "\n",
      "Github username: caiquemiranda\n",
      "\n",
      "numpy: 1.23.0\n",
      "sys  : 3.10.5 (tags/v3.10.5:f377153, Jun  6 2022, 16:14:13) [MSC v.1929 64 bit (AMD64)]\n",
      "\n"
     ]
    }
   ],
   "source": [
    "%reload_ext watermark\n",
    "%watermark -a \"Caique Miranda\" -gu \"caiquemiranda\" -iv"
   ]
  },
  {
   "attachments": {},
   "cell_type": "markdown",
   "metadata": {},
   "source": [
    "### End."
   ]
  }
 ],
 "metadata": {
  "kernelspec": {
   "display_name": "Python 3",
   "language": "python",
   "name": "python3"
  },
  "language_info": {
   "codemirror_mode": {
    "name": "ipython",
    "version": 3
   },
   "file_extension": ".py",
   "mimetype": "text/x-python",
   "name": "python",
   "nbconvert_exporter": "python",
   "pygments_lexer": "ipython3",
   "version": "3.10.5"
  },
  "orig_nbformat": 4,
  "vscode": {
   "interpreter": {
    "hash": "74af3d2f25f1e46ebd2903d59225d79e4675ec224d56c01fc30cd168c2010d53"
   }
  }
 },
 "nbformat": 4,
 "nbformat_minor": 2
}
