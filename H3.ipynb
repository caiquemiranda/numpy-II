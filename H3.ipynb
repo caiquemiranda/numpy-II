{
 "cells": [
  {
   "attachments": {},
   "cell_type": "markdown",
   "metadata": {},
   "source": [
    "### NumPy Data Type\n",
    "\n",
    "NumPy data type can be described by one character.\n",
    "\n",
    "|Character | Data Type|\n",
    "|--|--|\n",
    "|i |integer or int64|\n",
    "|b |boolean|\n",
    "|u |unsigned|\n",
    "|f |float|\n",
    "|c |complex|\n",
    "|m |timedelta|\n",
    "|> |more than characters (bit-endian byte order)|\n",
    "|< |less than characters (little-endian byte order)|\n",
    "|M |datetime|\n",
    "|O |object|\n",
    "|S |string|\n",
    "|U |unidcode|\n",
    "|V | void|"
   ]
  },
  {
   "cell_type": "code",
   "execution_count": 1,
   "metadata": {},
   "outputs": [],
   "source": [
    "# Check Data Type\n",
    "\n",
    "# myArray.dtype"
   ]
  },
  {
   "cell_type": "code",
   "execution_count": 2,
   "metadata": {},
   "outputs": [
    {
     "name": "stdout",
     "output_type": "stream",
     "text": [
      "int32\n",
      "<U6\n"
     ]
    }
   ],
   "source": [
    "# Example 3.1\n",
    "\n",
    "import numpy as np\n",
    "\n",
    "arr1 = np.array([10, 11, 12, 13])\n",
    "print(arr1.dtype)\n",
    "\n",
    "arr2 = np.array(['Matlab','in', '8', 'Hours'])\n",
    "print(arr2.dtype)"
   ]
  },
  {
   "cell_type": "code",
   "execution_count": 3,
   "metadata": {},
   "outputs": [],
   "source": [
    "# Set String Array\n",
    "\n",
    "# dtype = ‘datatype’"
   ]
  },
  {
   "cell_type": "code",
   "execution_count": 4,
   "metadata": {},
   "outputs": [
    {
     "name": "stdout",
     "output_type": "stream",
     "text": [
      "|S2\n"
     ]
    }
   ],
   "source": [
    "# Example 3.2\n",
    "\n",
    "import numpy as np\n",
    "\n",
    "myArr = np.array([10, 20, 30, 40], dtype='S')\n",
    "print(myArr.dtype)"
   ]
  },
  {
   "cell_type": "code",
   "execution_count": 5,
   "metadata": {},
   "outputs": [],
   "source": [
    "# Set Int Array\n",
    "\n",
    "# dtype = ‘datatype’"
   ]
  },
  {
   "cell_type": "code",
   "execution_count": 6,
   "metadata": {},
   "outputs": [
    {
     "name": "stdout",
     "output_type": "stream",
     "text": [
      "int16\n"
     ]
    }
   ],
   "source": [
    "# Example 3.3\n",
    "\n",
    "import numpy as np\n",
    "\n",
    "myArr = np.array([10, 11, 12, 13], dtype='i2')\n",
    "print(myArr.dtype)"
   ]
  },
  {
   "cell_type": "code",
   "execution_count": 7,
   "metadata": {},
   "outputs": [],
   "source": [
    "# Convert Integer Type\n",
    "\n",
    "# myArr.astype(‘data_type’)"
   ]
  },
  {
   "cell_type": "code",
   "execution_count": 8,
   "metadata": {},
   "outputs": [
    {
     "name": "stdout",
     "output_type": "stream",
     "text": [
      "[0 1 2 3]\n",
      "int32\n"
     ]
    }
   ],
   "source": [
    "# Example 3.4\n",
    "\n",
    "import numpy as np\n",
    "\n",
    "myArr = np.array([0.99, 1.99, 2.99, 3.99])\n",
    "arr = myArr.astype('i')\n",
    "\n",
    "print(arr)\n",
    "print(arr.dtype)"
   ]
  },
  {
   "cell_type": "code",
   "execution_count": 9,
   "metadata": {},
   "outputs": [],
   "source": [
    "# Convert Bool Type\n",
    "\n",
    "# myArr.astype(‘data_type’)"
   ]
  },
  {
   "cell_type": "code",
   "execution_count": 10,
   "metadata": {},
   "outputs": [
    {
     "name": "stdout",
     "output_type": "stream",
     "text": [
      "[False  True  True  True]\n",
      "bool\n"
     ]
    }
   ],
   "source": [
    "# Example 3.5\n",
    "\n",
    "import numpy as np\n",
    "\n",
    "myArr = np.array([0, 1, 2, 3])\n",
    "arr = myArr.astype(bool)\n",
    "\n",
    "print(arr)\n",
    "print(arr.dtype)"
   ]
  },
  {
   "cell_type": "code",
   "execution_count": 11,
   "metadata": {},
   "outputs": [],
   "source": [
    "# Copy an Array\n",
    "\n",
    "# array2 = array1.copy()"
   ]
  },
  {
   "cell_type": "code",
   "execution_count": 12,
   "metadata": {},
   "outputs": [
    {
     "name": "stdout",
     "output_type": "stream",
     "text": [
      "[0 1 2 3 4]\n",
      "[100   1   2   3   4]\n"
     ]
    }
   ],
   "source": [
    "# Example 3.6\n",
    "\n",
    "import numpy as np\n",
    "\n",
    "arr1 = np.array([0, 1, 2, 3, 4]) # arr1 is an original array\n",
    "arr2 = arr1.copy() # arr2 is a new array\n",
    "arr2[0] = 100\n",
    "\n",
    "print(arr1)\n",
    "print(arr2)"
   ]
  },
  {
   "cell_type": "code",
   "execution_count": 13,
   "metadata": {},
   "outputs": [],
   "source": [
    "# The View of Array\n",
    "\n",
    "# array2 = array1.view()"
   ]
  },
  {
   "cell_type": "code",
   "execution_count": 14,
   "metadata": {},
   "outputs": [
    {
     "name": "stdout",
     "output_type": "stream",
     "text": [
      "[100   1   2   3   4]\n",
      "[100   1   2   3   4]\n"
     ]
    }
   ],
   "source": [
    "# Example 3.7\n",
    "\n",
    "import numpy as np\n",
    "\n",
    "arr1 = np.array([0, 1, 2, 3, 4]) # arr1 is an original array\n",
    "arr2 = arr1.view() # arr2 is a view\n",
    "arr2[0] = 100\n",
    "\n",
    "print(arr1)\n",
    "print(arr2)"
   ]
  },
  {
   "cell_type": "code",
   "execution_count": 15,
   "metadata": {},
   "outputs": [],
   "source": [
    "# Check Correlation"
   ]
  },
  {
   "cell_type": "code",
   "execution_count": 16,
   "metadata": {},
   "outputs": [
    {
     "name": "stdout",
     "output_type": "stream",
     "text": [
      "None\n",
      "[0 1 2 3 4]\n"
     ]
    }
   ],
   "source": [
    "# Example 3.8\n",
    "\n",
    "import numpy as np\n",
    "\n",
    "myArr = np.array([0, 1, 2, 3, 4])\n",
    "copyArr = myArr.copy()\n",
    "viewArr = myArr.view()\n",
    "\n",
    "print(copyArr.base)\n",
    "print(viewArr.base)"
   ]
  },
  {
   "cell_type": "code",
   "execution_count": 17,
   "metadata": {},
   "outputs": [],
   "source": [
    "# Array Shape (1)\n",
    "\n",
    "# array.shape"
   ]
  },
  {
   "cell_type": "code",
   "execution_count": 18,
   "metadata": {},
   "outputs": [
    {
     "name": "stdout",
     "output_type": "stream",
     "text": [
      "(3, 4)\n"
     ]
    }
   ],
   "source": [
    "# Example 3.9\n",
    "\n",
    "import numpy as np\n",
    "\n",
    "myArr = np.array([[0,1,2,3],[4,5,6,7],[2,4,6,8]])\n",
    "print(myArr.shape)"
   ]
  },
  {
   "cell_type": "code",
   "execution_count": 19,
   "metadata": {},
   "outputs": [],
   "source": [
    "# Array Shape (2)"
   ]
  },
  {
   "cell_type": "code",
   "execution_count": 20,
   "metadata": {},
   "outputs": [
    {
     "name": "stdout",
     "output_type": "stream",
     "text": [
      "[[1 2 3 4 5]]\n",
      "The array shape is: (1, 5)\n"
     ]
    }
   ],
   "source": [
    "# Example 3.10\n",
    "\n",
    "import numpy as np\n",
    "\n",
    "myArr = np.array([1, 2, 3, 4, 5], ndmin=2)\n",
    "\n",
    "print(myArr)\n",
    "print('The array shape is:', myArr.shape)"
   ]
  },
  {
   "cell_type": "code",
   "execution_count": 21,
   "metadata": {},
   "outputs": [
    {
     "name": "stdout",
     "output_type": "stream",
     "text": [
      "Author: Caique Miranda\n",
      "\n",
      "Github username: caiquemiranda\n",
      "\n",
      "numpy: 1.23.0\n",
      "sys  : 3.10.5 (tags/v3.10.5:f377153, Jun  6 2022, 16:14:13) [MSC v.1929 64 bit (AMD64)]\n",
      "\n"
     ]
    }
   ],
   "source": [
    "%reload_ext watermark\n",
    "%watermark -a \"Caique Miranda\" -gu \"caiquemiranda\" -iv"
   ]
  },
  {
   "attachments": {},
   "cell_type": "markdown",
   "metadata": {},
   "source": [
    "### End."
   ]
  }
 ],
 "metadata": {
  "kernelspec": {
   "display_name": "Python 3",
   "language": "python",
   "name": "python3"
  },
  "language_info": {
   "codemirror_mode": {
    "name": "ipython",
    "version": 3
   },
   "file_extension": ".py",
   "mimetype": "text/x-python",
   "name": "python",
   "nbconvert_exporter": "python",
   "pygments_lexer": "ipython3",
   "version": "3.10.5"
  },
  "orig_nbformat": 4,
  "vscode": {
   "interpreter": {
    "hash": "74af3d2f25f1e46ebd2903d59225d79e4675ec224d56c01fc30cd168c2010d53"
   }
  }
 },
 "nbformat": 4,
 "nbformat_minor": 2
}
